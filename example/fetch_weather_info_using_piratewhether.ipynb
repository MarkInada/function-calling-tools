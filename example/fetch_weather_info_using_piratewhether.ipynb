{
 "cells": [
  {
   "cell_type": "code",
   "execution_count": 6,
   "id": "994a2aa7-0030-4f1e-90ba-0a6c07ecfa00",
   "metadata": {},
   "outputs": [
    {
     "name": "stdout",
     "output_type": "stream",
     "text": [
      "env: PIRATE_WEATHER_API_KEY=\n",
      "env: OPENAI_API_KEY=\n"
     ]
    }
   ],
   "source": [
    "%env PIRATE_WEATHER_API_KEY=\n",
    "%env OPENAI_API_KEY="
   ]
  },
  {
   "cell_type": "code",
   "execution_count": 12,
   "id": "16769c64-4832-4c24-9476-40f4fcb0eba2",
   "metadata": {},
   "outputs": [
    {
     "name": "stdout",
     "output_type": "stream",
     "text": [
      "Collecting function_calling_tools==0.1.1\n",
      "  Downloading function_calling_tools-0.1.1-py3-none-any.whl (8.7 kB)\n",
      "Requirement already satisfied: ntplib<0.5.0,>=0.4.0 in /usr/local/lib/python3.8/site-packages (from function_calling_tools==0.1.1) (0.4.0)\n",
      "Requirement already satisfied: langchain<0.0.286,>=0.0.285 in /usr/local/lib/python3.8/site-packages (from function_calling_tools==0.1.1) (0.0.285)\n",
      "Requirement already satisfied: numexpr<3.0.0,>=2.8.4 in /usr/local/lib/python3.8/site-packages (from langchain<0.0.286,>=0.0.285->function_calling_tools==0.1.1) (2.8.5)\n",
      "Requirement already satisfied: SQLAlchemy<3,>=1.4 in /usr/local/lib/python3.8/site-packages (from langchain<0.0.286,>=0.0.285->function_calling_tools==0.1.1) (2.0.20)\n",
      "Requirement already satisfied: async-timeout<5.0.0,>=4.0.0; python_version < \"3.11\" in /usr/local/lib/python3.8/site-packages (from langchain<0.0.286,>=0.0.285->function_calling_tools==0.1.1) (4.0.3)\n",
      "Requirement already satisfied: tenacity<9.0.0,>=8.1.0 in /usr/local/lib/python3.8/site-packages (from langchain<0.0.286,>=0.0.285->function_calling_tools==0.1.1) (8.2.3)\n",
      "Requirement already satisfied: numpy<2,>=1 in /usr/local/lib/python3.8/site-packages (from langchain<0.0.286,>=0.0.285->function_calling_tools==0.1.1) (1.24.4)\n",
      "Requirement already satisfied: langsmith<0.1.0,>=0.0.21 in /usr/local/lib/python3.8/site-packages (from langchain<0.0.286,>=0.0.285->function_calling_tools==0.1.1) (0.0.33)\n",
      "Requirement already satisfied: PyYAML>=5.3 in /usr/local/lib/python3.8/site-packages (from langchain<0.0.286,>=0.0.285->function_calling_tools==0.1.1) (6.0.1)\n",
      "Requirement already satisfied: pydantic<3,>=1 in /usr/local/lib/python3.8/site-packages (from langchain<0.0.286,>=0.0.285->function_calling_tools==0.1.1) (2.3.0)\n",
      "Requirement already satisfied: dataclasses-json<0.6.0,>=0.5.7 in /usr/local/lib/python3.8/site-packages (from langchain<0.0.286,>=0.0.285->function_calling_tools==0.1.1) (0.5.14)\n",
      "Requirement already satisfied: requests<3,>=2 in /usr/local/lib/python3.8/site-packages (from langchain<0.0.286,>=0.0.285->function_calling_tools==0.1.1) (2.31.0)\n",
      "Requirement already satisfied: aiohttp<4.0.0,>=3.8.3 in /usr/local/lib/python3.8/site-packages (from langchain<0.0.286,>=0.0.285->function_calling_tools==0.1.1) (3.8.5)\n",
      "Requirement already satisfied: typing-extensions>=4.2.0 in /usr/local/lib/python3.8/site-packages (from SQLAlchemy<3,>=1.4->langchain<0.0.286,>=0.0.285->function_calling_tools==0.1.1) (4.7.1)\n",
      "Requirement already satisfied: greenlet!=0.4.17; platform_machine == \"aarch64\" or (platform_machine == \"ppc64le\" or (platform_machine == \"x86_64\" or (platform_machine == \"amd64\" or (platform_machine == \"AMD64\" or (platform_machine == \"win32\" or platform_machine == \"WIN32\"))))) in /usr/local/lib/python3.8/site-packages (from SQLAlchemy<3,>=1.4->langchain<0.0.286,>=0.0.285->function_calling_tools==0.1.1) (2.0.2)\n",
      "Requirement already satisfied: pydantic-core==2.6.3 in /usr/local/lib/python3.8/site-packages (from pydantic<3,>=1->langchain<0.0.286,>=0.0.285->function_calling_tools==0.1.1) (2.6.3)\n",
      "Requirement already satisfied: annotated-types>=0.4.0 in /usr/local/lib/python3.8/site-packages (from pydantic<3,>=1->langchain<0.0.286,>=0.0.285->function_calling_tools==0.1.1) (0.5.0)\n",
      "Requirement already satisfied: marshmallow<4.0.0,>=3.18.0 in /usr/local/lib/python3.8/site-packages (from dataclasses-json<0.6.0,>=0.5.7->langchain<0.0.286,>=0.0.285->function_calling_tools==0.1.1) (3.20.1)\n",
      "Requirement already satisfied: typing-inspect<1,>=0.4.0 in /usr/local/lib/python3.8/site-packages (from dataclasses-json<0.6.0,>=0.5.7->langchain<0.0.286,>=0.0.285->function_calling_tools==0.1.1) (0.9.0)\n",
      "Requirement already satisfied: certifi>=2017.4.17 in /usr/local/lib/python3.8/site-packages (from requests<3,>=2->langchain<0.0.286,>=0.0.285->function_calling_tools==0.1.1) (2023.7.22)\n",
      "Requirement already satisfied: idna<4,>=2.5 in /usr/local/lib/python3.8/site-packages (from requests<3,>=2->langchain<0.0.286,>=0.0.285->function_calling_tools==0.1.1) (3.4)\n",
      "Requirement already satisfied: charset-normalizer<4,>=2 in /usr/local/lib/python3.8/site-packages (from requests<3,>=2->langchain<0.0.286,>=0.0.285->function_calling_tools==0.1.1) (3.2.0)\n",
      "Requirement already satisfied: urllib3<3,>=1.21.1 in /usr/local/lib/python3.8/site-packages (from requests<3,>=2->langchain<0.0.286,>=0.0.285->function_calling_tools==0.1.1) (1.26.16)\n",
      "Requirement already satisfied: multidict<7.0,>=4.5 in /usr/local/lib/python3.8/site-packages (from aiohttp<4.0.0,>=3.8.3->langchain<0.0.286,>=0.0.285->function_calling_tools==0.1.1) (6.0.4)\n",
      "Requirement already satisfied: attrs>=17.3.0 in /usr/local/lib/python3.8/site-packages (from aiohttp<4.0.0,>=3.8.3->langchain<0.0.286,>=0.0.285->function_calling_tools==0.1.1) (23.1.0)\n",
      "Requirement already satisfied: frozenlist>=1.1.1 in /usr/local/lib/python3.8/site-packages (from aiohttp<4.0.0,>=3.8.3->langchain<0.0.286,>=0.0.285->function_calling_tools==0.1.1) (1.4.0)\n",
      "Requirement already satisfied: aiosignal>=1.1.2 in /usr/local/lib/python3.8/site-packages (from aiohttp<4.0.0,>=3.8.3->langchain<0.0.286,>=0.0.285->function_calling_tools==0.1.1) (1.3.1)\n",
      "Requirement already satisfied: yarl<2.0,>=1.0 in /usr/local/lib/python3.8/site-packages (from aiohttp<4.0.0,>=3.8.3->langchain<0.0.286,>=0.0.285->function_calling_tools==0.1.1) (1.9.2)\n",
      "Requirement already satisfied: packaging>=17.0 in /usr/local/lib/python3.8/site-packages (from marshmallow<4.0.0,>=3.18.0->dataclasses-json<0.6.0,>=0.5.7->langchain<0.0.286,>=0.0.285->function_calling_tools==0.1.1) (23.1)\n",
      "Requirement already satisfied: mypy-extensions>=0.3.0 in /usr/local/lib/python3.8/site-packages (from typing-inspect<1,>=0.4.0->dataclasses-json<0.6.0,>=0.5.7->langchain<0.0.286,>=0.0.285->function_calling_tools==0.1.1) (1.0.0)\n",
      "Installing collected packages: function-calling-tools\n",
      "  Attempting uninstall: function-calling-tools\n",
      "    Found existing installation: function-calling-tools 0.1.0\n",
      "    Uninstalling function-calling-tools-0.1.0:\n",
      "      Successfully uninstalled function-calling-tools-0.1.0\n",
      "Successfully installed function-calling-tools-0.1.1\n",
      "Note: you may need to restart the kernel to use updated packages.\n"
     ]
    }
   ],
   "source": [
    "%pip install function_calling_tools"
   ]
  },
  {
   "cell_type": "code",
   "execution_count": 4,
   "id": "7b121c4e-2706-4be3-949c-43e768b4767b",
   "metadata": {},
   "outputs": [],
   "source": [
    "import os\n",
    "import openai\n",
    "from langchain.memory import ConversationBufferMemory\n",
    "from langchain.prompts import MessagesPlaceholder\n",
    "from langchain.chat_models import ChatOpenAI\n",
    "from langchain.agents import initialize_agent\n",
    "from langchain.agents import AgentType\n",
    "\n",
    "from function_calling_tools.pirateweather import WeatherFetcher\n",
    "\n",
    "tools = [\n",
    "  WeatherFetcher(),\n",
    "]\n",
    "\n",
    "memory = ConversationBufferMemory(memory_key=\"memory\", return_messages=True)\n",
    "\n",
    "agent_kwargs = {\n",
    "  \"extra_prompt_messages\": [MessagesPlaceholder(variable_name=\"memory\")],\n",
    "}\n",
    "\n",
    "prompt = \"\"\"\n",
    "Don't make assumptions about what values to plug into functions. Ask for clarification if a user request is ambiguous.\n",
    "\"\"\"\n",
    "\n",
    "memory.save_context({\"input\": prompt}, {\"output\": \"I got it!\"})\n",
    "\n",
    "openai.api_key = os.environ[\"OPENAI_API_KEY\"]\n",
    "llm = ChatOpenAI(model_name=\"gpt-3.5-turbo\")\n",
    "\n",
    "agent = initialize_agent(\n",
    "    tools,\n",
    "    llm,\n",
    "    agent=AgentType.OPENAI_FUNCTIONS,\n",
    "    verbose=True,\n",
    "    agent_kwargs=agent_kwargs,\n",
    "    memory=memory,\n",
    ")"
   ]
  },
  {
   "cell_type": "code",
   "execution_count": 5,
   "id": "4921b897-66e1-44e7-b990-7cb31ce55d4b",
   "metadata": {},
   "outputs": [
    {
     "name": "stdout",
     "output_type": "stream",
     "text": [
      "\n",
      "\n",
      "\u001b[1m> Entering new AgentExecutor chain...\u001b[0m\n",
      "\u001b[32;1m\u001b[1;3m\n",
      "Invoking: `fetch_weather_info` with `{'latitude': 35.6895, 'longitude': 139.6917}`\n",
      "\n",
      "\n",
      "\u001b[0m\u001b[36;1m\u001b[1;3m{'latitude': 35.6895, 'longitude': 139.6917, 'timezone': 'Etc/GMT-9', 'offset': 9.0, 'elevation': 41, 'currently': {'time': 1694402520, 'summary': 'Cloudy', 'icon': 'cloudy', 'nearestStormDistance': 0, 'nearestStormBearing': 0, 'precipIntensity': 0.0362, 'precipProbability': 0.03, 'precipIntensityError': 0.05, 'precipType': 'rain', 'temperature': 30.07, 'apparentTemperature': 38.4, 'dewPoint': 20.89, 'humidity': 0.59, 'pressure': 1009.5, 'windSpeed': 4.07, 'windGust': 4.88, 'windBearing': 177, 'cloudCover': 1.0, 'uvIndex': 4.97, 'visibility': 16.09, 'ozone': 280.95}, 'daily': {'summary': 'Clear', 'icon': 'clear-day', 'data': [{'time': 1694358000, 'icon': 'cloudy', 'summary': 'Cloudy', 'sunriseTime': 1694377229, 'sunsetTime': 1694422510, 'moonPhase': 0.9, 'precipIntensity': 0.046, 'precipIntensityMax': 0.0913, 'precipIntensityMaxTime': 1694412000, 'precipProbability': 0.12, 'precipAccumulation': 0.0506, 'precipType': 'rain', 'temperatureHigh': 30.22, 'temperatureHighTime': 1694404800, 'temperatureLow': 25.75, 'temperatureLowTime': 1694458800, 'apparentTemperatureHigh': 39.12, 'apparentTemperatureHighTime': 1694408400, 'apparentTemperatureLow': 36.54, 'apparentTemperatureLowTime': 1694458800, 'dewPoint': 21.96, 'humidity': 0.67, 'pressure': 1009.88, 'windSpeed': 4.7, 'windGust': 5.63, 'windGustTime': 1694426400, 'windBearing': 180, 'cloudCover': 1.0, 'uvIndex': 4.97, 'uvIndexTime': 1694401200, 'visibility': 16.09, 'temperatureMin': 26.91, 'temperatureMinTime': 1694437200, 'temperatureMax': 30.22, 'temperatureMaxTime': 1694404800, 'apparentTemperatureMin': 36.54, 'apparentTemperatureMinTime': 1694437200, 'apparentTemperatureMax': 39.12, 'apparentTemperatureMaxTime': 1694408400}, {'time': 1694444400, 'icon': 'clear-day', 'summary': 'Clear', 'sunriseTime': 1694463674, 'sunsetTime': 1694508823, 'moonPhase': 0.93, 'precipIntensity': 0.0035, 'precipIntensityMax': 0.0223, 'precipIntensityMaxTime': 1694476800, 'precipProbability': 0.06, 'precipAccumulation': 0.0081, 'precipType': 'rain', 'temperatureHigh': 30.79, 'temperatureHighTime': 1694498400, 'temperatureLow': 25.69, 'temperatureLowTime': 1694545200, 'apparentTemperatureHigh': 37.16, 'apparentTemperatureHighTime': 1694491200, 'apparentTemperatureLow': 33.07, 'apparentTemperatureLowTime': 1694545200, 'dewPoint': 19.78, 'humidity': 0.62, 'pressure': 1009.98, 'windSpeed': 2.86, 'windGust': 3.1, 'windGustTime': 1694512800, 'windBearing': 151, 'cloudCover': 0.36, 'uvIndex': 6.48, 'uvIndexTime': 1694487600, 'visibility': 16.09, 'temperatureMin': 25.64, 'temperatureMinTime': 1694462400, 'temperatureMax': 30.79, 'temperatureMaxTime': 1694498400, 'apparentTemperatureMin': 33.07, 'apparentTemperatureMinTime': 1694462400, 'apparentTemperatureMax': 37.16, 'apparentTemperatureMaxTime': 1694491200}, {'time': 1694530800, 'icon': 'clear-day', 'summary': 'Clear', 'sunriseTime': 1694550119, 'sunsetTime': 1694595135, 'moonPhase': 0.95, 'precipIntensity': 0.0016, 'precipIntensityMax': 0.0372, 'precipIntensityMaxTime': 1694610000, 'precipProbability': 0.06, 'precipAccumulation': 0.0037, 'precipType': 'rain', 'temperatureHigh': 32.25, 'temperatureHighTime': 1694584800, 'temperatureLow': 26.49, 'temperatureLowTime': 1694631600, 'apparentTemperatureHigh': 39.05, 'apparentTemperatureHighTime': 1694588400, 'apparentTemperatureLow': 31.84, 'apparentTemperatureLowTime': 1694631600, 'dewPoint': 18.94, 'humidity': 0.57, 'pressure': 1010.16, 'windSpeed': 2.3, 'windGust': 2.44, 'windGustTime': 1694599200, 'windBearing': 116, 'cloudCover': 0.16, 'uvIndex': 7.36, 'uvIndexTime': 1694574000, 'visibility': 16.09, 'temperatureMin': 25.55, 'temperatureMinTime': 1694548800, 'temperatureMax': 32.25, 'temperatureMaxTime': 1694584800, 'apparentTemperatureMin': 31.84, 'apparentTemperatureMinTime': 1694548800, 'apparentTemperatureMax': 39.05, 'apparentTemperatureMaxTime': 1694588400}, {'time': 1694617200, 'icon': 'clear-day', 'summary': 'Clear', 'sunriseTime': 1694636564, 'sunsetTime': 1694681447, 'moonPhase': 0.98, 'precipIntensity': 0.0061, 'precipIntensityMax': 0.0473, 'precipIntensityMaxTime': 1694617200, 'precipProbability': 0.04, 'precipAccumulation': 0.0139, 'precipType': 'rain', 'temperatureHigh': 31.92, 'temperatureHighTime': 1694667600, 'temperatureLow': 27.03, 'temperatureLowTime': 1694718000, 'apparentTemperatureHigh': 39.37, 'apparentTemperatureHighTime': 1694671200, 'apparentTemperatureLow': 35.87, 'apparentTemperatureLowTime': 1694718000, 'dewPoint': 21.54, 'humidity': 0.67, 'pressure': 1009.06, 'windSpeed': 3.27, 'windGust': 3.57, 'windGustTime': 1694678400, 'windBearing': 169, 'cloudCover': 0.22, 'uvIndex': 7.28, 'uvIndexTime': 1694660400, 'visibility': 16.09, 'temperatureMin': 26.37, 'temperatureMinTime': 1694638800, 'temperatureMax': 31.92, 'temperatureMaxTime': 1694667600, 'apparentTemperatureMin': 35.87, 'apparentTemperatureMinTime': 1694638800, 'apparentTemperatureMax': 39.37, 'apparentTemperatureMaxTime': 1694671200}, {'time': 1694703600, 'icon': 'rain', 'summary': 'Rain', 'sunriseTime': 1694723010, 'sunsetTime': 1694767759, 'moonPhase': 0.02, 'precipIntensity': 0.0681, 'precipIntensityMax': 0.3621, 'precipIntensityMaxTime': 1694779200, 'precipProbability': 0.3, 'precipAccumulation': 0.1567, 'precipType': 'rain', 'temperatureHigh': 32.5, 'temperatureHighTime': 1694750400, 'temperatureLow': 24.13, 'temperatureLowTime': 1694804400, 'apparentTemperatureHigh': 40.15, 'apparentTemperatureHighTime': 1694746800, 'apparentTemperatureLow': 32.48, 'apparentTemperatureLowTime': 1694804400, 'dewPoint': 21.11, 'humidity': 0.66, 'pressure': 1008.65, 'windSpeed': 3.67, 'windGust': 4.59, 'windGustTime': 1694768400, 'windBearing': 66, 'cloudCover': 0.62, 'uvIndex': 7.04, 'uvIndexTime': 1694746800, 'visibility': 16.09, 'temperatureMin': 24.95, 'temperatureMinTime': 1694782800, 'temperatureMax': 32.5, 'temperatureMaxTime': 1694750400, 'apparentTemperatureMin': 32.48, 'apparentTemperatureMinTime': 1694782800, 'apparentTemperatureMax': 40.15, 'apparentTemperatureMaxTime': 1694746800}, {'time': 1694790000, 'icon': 'cloudy', 'summary': 'Cloudy', 'sunriseTime': 1694809455, 'sunsetTime': 1694854071, 'moonPhase': 0.05, 'precipIntensity': 0.0734, 'precipIntensityMax': 0.2834, 'precipIntensityMaxTime': 1694790000, 'precipProbability': 0.33, 'precipAccumulation': 0.1688, 'precipType': 'rain', 'temperatureHigh': 26.97, 'temperatureHighTime': 1694844000, 'temperatureLow': 24.49, 'temperatureLowTime': 1694887200, 'apparentTemperatureHigh': 32.89, 'apparentTemperatureHighTime': 1694844000, 'apparentTemperatureLow': 30.51, 'apparentTemperatureLowTime': 1694876400, 'dewPoint': 18.48, 'humidity': 0.67, 'pressure': 1012.4, 'windSpeed': 3.48, 'windGust': 4.04, 'windGustTime': 1694790000, 'windBearing': 64, 'cloudCover': 0.96, 'uvIndex': 3.2, 'uvIndexTime': 1694844000, 'visibility': 16.09, 'temperatureMin': 23.84, 'temperatureMinTime': 1694811600, 'temperatureMax': 26.97, 'temperatureMaxTime': 1694844000, 'apparentTemperatureMin': 30.51, 'apparentTemperatureMinTime': 1694811600, 'apparentTemperatureMax': 32.89, 'apparentTemperatureMaxTime': 1694844000}, {'time': 1694876400, 'icon': 'partly-cloudy-day', 'summary': 'Partly Cloudy', 'sunriseTime': 1694895900, 'sunsetTime': 1694940383, 'moonPhase': 0.08, 'precipIntensity': 0.0087, 'precipIntensityMax': 0.0594, 'precipIntensityMaxTime': 1694916000, 'precipProbability': 0.14, 'precipAccumulation': 0.0199, 'precipType': 'rain', 'temperatureHigh': 29.79, 'temperatureHighTime': 1694930400, 'temperatureLow': 25.3, 'temperatureLowTime': 1694977200, 'apparentTemperatureHigh': 37.01, 'apparentTemperatureHighTime': 1694930400, 'apparentTemperatureLow': 30.6, 'apparentTemperatureLowTime': 1694977200, 'dewPoint': 19.29, 'humidity': 0.64, 'pressure': 1010.1, 'windSpeed': 3.59, 'windGust': 3.72, 'windGustTime': 1694941200, 'windBearing': 175, 'cloudCover': 0.58, 'uvIndex': 6.49, 'uvIndexTime': 1694919600, 'visibility': 16.09, 'temperatureMin': 24.49, 'temperatureMinTime': 1694887200, 'temperatureMax': 29.79, 'temperatureMaxTime': 1694930400, 'apparentTemperatureMin': 30.6, 'apparentTemperatureMinTime': 1694887200, 'apparentTemperatureMax': 37.01, 'apparentTemperatureMaxTime': 1694930400}, {'time': 1694962800, 'icon': 'cloudy', 'summary': 'Cloudy', 'sunriseTime': 1694982346, 'sunsetTime': 1695026695, 'moonPhase': 0.11, 'precipIntensity': 0.0325, 'precipIntensityMax': 0.2037, 'precipIntensityMaxTime': 1695031200, 'precipProbability': 0.25, 'precipAccumulation': 0.0749, 'precipType': 'rain', 'temperatureHigh': 29.21, 'temperatureHighTime': 1695006000, 'temperatureLow': 24.91, 'temperatureLowTime': 1695063600, 'apparentTemperatureHigh': 36.82, 'apparentTemperatureHighTime': 1695016800, 'apparentTemperatureLow': 33.67, 'apparentTemperatureLowTime': 1695063600, 'dewPoint': 20.65, 'humidity': 0.69, 'pressure': 1009.05, 'windSpeed': 3.82, 'windGust': 4.2, 'windGustTime': 1695027600, 'windBearing': 160, 'cloudCover': 0.8, 'uvIndex': 5.2, 'uvIndexTime': 1695006000, 'visibility': 16.09, 'temperatureMin': 25.14, 'temperatureMinTime': 1694984400, 'temperatureMax': 29.21, 'temperatureMaxTime': 1695006000, 'apparentTemperatureMin': 33.67, 'apparentTemperatureMinTime': 1694984400, 'apparentTemperatureMax': 36.82, 'apparentTemperatureMaxTime': 1695016800}]}, 'flags': {'sources': ['ETOPO1', 'gfs', 'gefs'], 'sourceTimes': {'gfs': '2023-09-10 18:00:00', 'gefs': '2023-09-10 18:00:00'}, 'nearest-station': 0, 'units': 'si', 'version': 'V1.5.5'}}\u001b[0m\u001b[32;1m\u001b[1;3mThe weather in Tokyo today is cloudy. The temperature is 30.07°C with a humidity of 59%. The wind speed is 4.07 km/h coming from the south. The visibility is 16.09 km.\u001b[0m\n",
      "\n",
      "\u001b[1m> Finished chain.\u001b[0m\n"
     ]
    },
    {
     "data": {
      "text/plain": [
       "'The weather in Tokyo today is cloudy. The temperature is 30.07°C with a humidity of 59%. The wind speed is 4.07 km/h coming from the south. The visibility is 16.09 km.'"
      ]
     },
     "execution_count": 5,
     "metadata": {},
     "output_type": "execute_result"
    }
   ],
   "source": [
    "agent.run(input=\"What is the weather like in Tokyo today?\")"
   ]
  },
  {
   "cell_type": "code",
   "execution_count": null,
   "id": "d1ab35a0-5c4b-410b-a555-f6c81c6031bb",
   "metadata": {},
   "outputs": [],
   "source": []
  }
 ],
 "metadata": {
  "kernelspec": {
   "display_name": "Python 3 (ipykernel)",
   "language": "python",
   "name": "python3"
  },
  "language_info": {
   "codemirror_mode": {
    "name": "ipython",
    "version": 3
   },
   "file_extension": ".py",
   "mimetype": "text/x-python",
   "name": "python",
   "nbconvert_exporter": "python",
   "pygments_lexer": "ipython3",
   "version": "3.8.5"
  }
 },
 "nbformat": 4,
 "nbformat_minor": 5
}
