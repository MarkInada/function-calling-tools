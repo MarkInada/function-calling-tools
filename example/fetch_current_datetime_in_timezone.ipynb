{
 "cells": [
  {
   "cell_type": "code",
   "execution_count": 5,
   "id": "b5f9e9ee-263c-4ed1-b0aa-3d1a44cd6ee6",
   "metadata": {},
   "outputs": [
    {
     "name": "stdout",
     "output_type": "stream",
     "text": [
      "env: OPENAI_API_KEY=\n"
     ]
    }
   ],
   "source": [
    "%env OPENAI_API_KEY="
   ]
  },
  {
   "cell_type": "code",
   "execution_count": 2,
   "id": "8bc3ca86-706d-4079-b7be-23a54bc41401",
   "metadata": {},
   "outputs": [
    {
     "name": "stdout",
     "output_type": "stream",
     "text": [
      "Requirement already satisfied: function_calling_tools in /usr/local/lib/python3.8/site-packages (0.1.1)\n",
      "Requirement already satisfied: ntplib<0.5.0,>=0.4.0 in /usr/local/lib/python3.8/site-packages (from function_calling_tools) (0.4.0)\n",
      "Requirement already satisfied: langchain<0.0.286,>=0.0.285 in /usr/local/lib/python3.8/site-packages (from function_calling_tools) (0.0.285)\n",
      "Requirement already satisfied: tenacity<9.0.0,>=8.1.0 in /usr/local/lib/python3.8/site-packages (from langchain<0.0.286,>=0.0.285->function_calling_tools) (8.2.3)\n",
      "Requirement already satisfied: aiohttp<4.0.0,>=3.8.3 in /usr/local/lib/python3.8/site-packages (from langchain<0.0.286,>=0.0.285->function_calling_tools) (3.8.5)\n",
      "Requirement already satisfied: PyYAML>=5.3 in /usr/local/lib/python3.8/site-packages (from langchain<0.0.286,>=0.0.285->function_calling_tools) (6.0.1)\n",
      "Requirement already satisfied: dataclasses-json<0.6.0,>=0.5.7 in /usr/local/lib/python3.8/site-packages (from langchain<0.0.286,>=0.0.285->function_calling_tools) (0.5.14)\n",
      "Requirement already satisfied: numpy<2,>=1 in /usr/local/lib/python3.8/site-packages (from langchain<0.0.286,>=0.0.285->function_calling_tools) (1.24.4)\n",
      "Requirement already satisfied: numexpr<3.0.0,>=2.8.4 in /usr/local/lib/python3.8/site-packages (from langchain<0.0.286,>=0.0.285->function_calling_tools) (2.8.5)\n",
      "Requirement already satisfied: requests<3,>=2 in /usr/local/lib/python3.8/site-packages (from langchain<0.0.286,>=0.0.285->function_calling_tools) (2.31.0)\n",
      "Requirement already satisfied: SQLAlchemy<3,>=1.4 in /usr/local/lib/python3.8/site-packages (from langchain<0.0.286,>=0.0.285->function_calling_tools) (2.0.20)\n",
      "Requirement already satisfied: pydantic<3,>=1 in /usr/local/lib/python3.8/site-packages (from langchain<0.0.286,>=0.0.285->function_calling_tools) (2.3.0)\n",
      "Requirement already satisfied: langsmith<0.1.0,>=0.0.21 in /usr/local/lib/python3.8/site-packages (from langchain<0.0.286,>=0.0.285->function_calling_tools) (0.0.33)\n",
      "Requirement already satisfied: async-timeout<5.0.0,>=4.0.0; python_version < \"3.11\" in /usr/local/lib/python3.8/site-packages (from langchain<0.0.286,>=0.0.285->function_calling_tools) (4.0.3)\n",
      "Requirement already satisfied: aiosignal>=1.1.2 in /usr/local/lib/python3.8/site-packages (from aiohttp<4.0.0,>=3.8.3->langchain<0.0.286,>=0.0.285->function_calling_tools) (1.3.1)\n",
      "Requirement already satisfied: attrs>=17.3.0 in /usr/local/lib/python3.8/site-packages (from aiohttp<4.0.0,>=3.8.3->langchain<0.0.286,>=0.0.285->function_calling_tools) (23.1.0)\n",
      "Requirement already satisfied: charset-normalizer<4.0,>=2.0 in /usr/local/lib/python3.8/site-packages (from aiohttp<4.0.0,>=3.8.3->langchain<0.0.286,>=0.0.285->function_calling_tools) (3.2.0)\n",
      "Requirement already satisfied: frozenlist>=1.1.1 in /usr/local/lib/python3.8/site-packages (from aiohttp<4.0.0,>=3.8.3->langchain<0.0.286,>=0.0.285->function_calling_tools) (1.4.0)\n",
      "Requirement already satisfied: yarl<2.0,>=1.0 in /usr/local/lib/python3.8/site-packages (from aiohttp<4.0.0,>=3.8.3->langchain<0.0.286,>=0.0.285->function_calling_tools) (1.9.2)\n",
      "Requirement already satisfied: multidict<7.0,>=4.5 in /usr/local/lib/python3.8/site-packages (from aiohttp<4.0.0,>=3.8.3->langchain<0.0.286,>=0.0.285->function_calling_tools) (6.0.4)\n",
      "Requirement already satisfied: marshmallow<4.0.0,>=3.18.0 in /usr/local/lib/python3.8/site-packages (from dataclasses-json<0.6.0,>=0.5.7->langchain<0.0.286,>=0.0.285->function_calling_tools) (3.20.1)\n",
      "Requirement already satisfied: typing-inspect<1,>=0.4.0 in /usr/local/lib/python3.8/site-packages (from dataclasses-json<0.6.0,>=0.5.7->langchain<0.0.286,>=0.0.285->function_calling_tools) (0.9.0)\n",
      "Requirement already satisfied: urllib3<3,>=1.21.1 in /usr/local/lib/python3.8/site-packages (from requests<3,>=2->langchain<0.0.286,>=0.0.285->function_calling_tools) (1.26.16)\n",
      "Requirement already satisfied: certifi>=2017.4.17 in /usr/local/lib/python3.8/site-packages (from requests<3,>=2->langchain<0.0.286,>=0.0.285->function_calling_tools) (2023.7.22)\n",
      "Requirement already satisfied: idna<4,>=2.5 in /usr/local/lib/python3.8/site-packages (from requests<3,>=2->langchain<0.0.286,>=0.0.285->function_calling_tools) (3.4)\n",
      "Requirement already satisfied: typing-extensions>=4.2.0 in /usr/local/lib/python3.8/site-packages (from SQLAlchemy<3,>=1.4->langchain<0.0.286,>=0.0.285->function_calling_tools) (4.7.1)\n",
      "Requirement already satisfied: greenlet!=0.4.17; platform_machine == \"aarch64\" or (platform_machine == \"ppc64le\" or (platform_machine == \"x86_64\" or (platform_machine == \"amd64\" or (platform_machine == \"AMD64\" or (platform_machine == \"win32\" or platform_machine == \"WIN32\"))))) in /usr/local/lib/python3.8/site-packages (from SQLAlchemy<3,>=1.4->langchain<0.0.286,>=0.0.285->function_calling_tools) (2.0.2)\n",
      "Requirement already satisfied: pydantic-core==2.6.3 in /usr/local/lib/python3.8/site-packages (from pydantic<3,>=1->langchain<0.0.286,>=0.0.285->function_calling_tools) (2.6.3)\n",
      "Requirement already satisfied: annotated-types>=0.4.0 in /usr/local/lib/python3.8/site-packages (from pydantic<3,>=1->langchain<0.0.286,>=0.0.285->function_calling_tools) (0.5.0)\n",
      "Requirement already satisfied: packaging>=17.0 in /usr/local/lib/python3.8/site-packages (from marshmallow<4.0.0,>=3.18.0->dataclasses-json<0.6.0,>=0.5.7->langchain<0.0.286,>=0.0.285->function_calling_tools) (23.1)\n",
      "Requirement already satisfied: mypy-extensions>=0.3.0 in /usr/local/lib/python3.8/site-packages (from typing-inspect<1,>=0.4.0->dataclasses-json<0.6.0,>=0.5.7->langchain<0.0.286,>=0.0.285->function_calling_tools) (1.0.0)\n",
      "Note: you may need to restart the kernel to use updated packages.\n"
     ]
    }
   ],
   "source": [
    "%pip install function_calling_tools"
   ]
  },
  {
   "cell_type": "code",
   "execution_count": 3,
   "id": "0b707d70-37f1-4e35-97f1-0351b6e222ca",
   "metadata": {},
   "outputs": [],
   "source": [
    "import os\n",
    "import openai\n",
    "from langchain.memory import ConversationBufferMemory\n",
    "from langchain.prompts import MessagesPlaceholder\n",
    "from langchain.chat_models import ChatOpenAI\n",
    "from langchain.agents import initialize_agent\n",
    "from langchain.agents import AgentType\n",
    "\n",
    "from function_calling_tools.ntp import TimeZoneDatetimeFetcher\n",
    "\n",
    "tools = [\n",
    "  TimeZoneDatetimeFetcher(),\n",
    "]\n",
    "\n",
    "memory = ConversationBufferMemory(memory_key=\"memory\", return_messages=True)\n",
    "\n",
    "agent_kwargs = {\n",
    "  \"extra_prompt_messages\": [MessagesPlaceholder(variable_name=\"memory\")],\n",
    "}\n",
    "\n",
    "prompt = \"\"\"\n",
    "Don't make assumptions about what values to plug into functions. Ask for clarification if a user request is ambiguous.\n",
    "\"\"\"\n",
    "\n",
    "memory.save_context({\"input\": prompt}, {\"output\": \"I got it!\"})\n",
    "\n",
    "openai.api_key = os.environ[\"OPENAI_API_KEY\"]\n",
    "llm = ChatOpenAI(model_name=\"gpt-3.5-turbo\")\n",
    "\n",
    "agent = initialize_agent(\n",
    "    tools,\n",
    "    llm,\n",
    "    agent=AgentType.OPENAI_FUNCTIONS,\n",
    "    verbose=True,\n",
    "    agent_kwargs=agent_kwargs,\n",
    "    memory=memory,\n",
    ")"
   ]
  },
  {
   "cell_type": "code",
   "execution_count": 4,
   "id": "6084cddf-88cc-4e07-a3e7-a7805c05c83c",
   "metadata": {},
   "outputs": [
    {
     "name": "stdout",
     "output_type": "stream",
     "text": [
      "\n",
      "\n",
      "\u001b[1m> Entering new AgentExecutor chain...\u001b[0m\n",
      "\u001b[32;1m\u001b[1;3m\n",
      "Invoking: `fetch_datetime_in_timezone` with `{'timezone_str': 'Asia/Tokyo'}`\n",
      "\n",
      "\n",
      "\u001b[0m\u001b[36;1m\u001b[1;3m2023-09-11 12:25:29.729839+09:00\u001b[0m\u001b[32;1m\u001b[1;3mThe current time in Tokyo is 12:25 PM on September 11th, 2023.\u001b[0m\n",
      "\n",
      "\u001b[1m> Finished chain.\u001b[0m\n"
     ]
    },
    {
     "data": {
      "text/plain": [
       "'The current time in Tokyo is 12:25 PM on September 11th, 2023.'"
      ]
     },
     "execution_count": 4,
     "metadata": {},
     "output_type": "execute_result"
    }
   ],
   "source": [
    "agent.run(input=\"What time is it now in Tokyo?\")"
   ]
  },
  {
   "cell_type": "code",
   "execution_count": null,
   "id": "0f428b5b-46b9-4e74-a9e8-f2f9f61052b5",
   "metadata": {},
   "outputs": [],
   "source": []
  }
 ],
 "metadata": {
  "kernelspec": {
   "display_name": "Python 3 (ipykernel)",
   "language": "python",
   "name": "python3"
  },
  "language_info": {
   "codemirror_mode": {
    "name": "ipython",
    "version": 3
   },
   "file_extension": ".py",
   "mimetype": "text/x-python",
   "name": "python",
   "nbconvert_exporter": "python",
   "pygments_lexer": "ipython3",
   "version": "3.8.5"
  }
 },
 "nbformat": 4,
 "nbformat_minor": 5
}
