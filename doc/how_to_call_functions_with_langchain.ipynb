{
 "cells": [
  {
   "cell_type": "markdown",
   "id": "55473922-d307-40a2-878d-5184fe218f4b",
   "metadata": {},
   "source": [
    "APIキーを定義、パッケージimport、関数を定義します。"
   ]
  },
  {
   "cell_type": "code",
   "execution_count": 14,
   "id": "29291011-22c2-4c8a-a391-8d095c51a374",
   "metadata": {},
   "outputs": [
    {
     "name": "stdout",
     "output_type": "stream",
     "text": [
      "env: OPENAI_API_KEY=\n"
     ]
    }
   ],
   "source": [
    "%env OPENAI_API_KEY="
   ]
  },
  {
   "cell_type": "code",
   "execution_count": 2,
   "id": "9af54458-e7b3-43c2-87ec-b575b438af69",
   "metadata": {},
   "outputs": [
    {
     "name": "stdout",
     "output_type": "stream",
     "text": [
      "Requirement already satisfied: openai in /usr/local/lib/python3.8/site-packages (0.28.0)\n",
      "Requirement already satisfied: langchain in /usr/local/lib/python3.8/site-packages (0.0.279)\n",
      "Requirement already satisfied: tqdm in /usr/local/lib/python3.8/site-packages (from openai) (4.66.1)\n",
      "Requirement already satisfied: aiohttp in /usr/local/lib/python3.8/site-packages (from openai) (3.8.5)\n",
      "Requirement already satisfied: requests>=2.20 in /usr/local/lib/python3.8/site-packages (from openai) (2.31.0)\n",
      "Requirement already satisfied: dataclasses-json<0.6.0,>=0.5.7 in /usr/local/lib/python3.8/site-packages (from langchain) (0.5.14)\n",
      "Requirement already satisfied: langsmith<0.1.0,>=0.0.21 in /usr/local/lib/python3.8/site-packages (from langchain) (0.0.33)\n",
      "Requirement already satisfied: PyYAML>=5.3 in /usr/local/lib/python3.8/site-packages (from langchain) (6.0.1)\n",
      "Requirement already satisfied: async-timeout<5.0.0,>=4.0.0; python_version < \"3.11\" in /usr/local/lib/python3.8/site-packages (from langchain) (4.0.3)\n",
      "Requirement already satisfied: SQLAlchemy<3,>=1.4 in /usr/local/lib/python3.8/site-packages (from langchain) (2.0.20)\n",
      "Requirement already satisfied: tenacity<9.0.0,>=8.1.0 in /usr/local/lib/python3.8/site-packages (from langchain) (8.2.3)\n",
      "Requirement already satisfied: numpy<2,>=1 in /usr/local/lib/python3.8/site-packages (from langchain) (1.24.4)\n",
      "Requirement already satisfied: pydantic<3,>=1 in /usr/local/lib/python3.8/site-packages (from langchain) (2.3.0)\n",
      "Requirement already satisfied: numexpr<3.0.0,>=2.8.4 in /usr/local/lib/python3.8/site-packages (from langchain) (2.8.5)\n",
      "Requirement already satisfied: frozenlist>=1.1.1 in /usr/local/lib/python3.8/site-packages (from aiohttp->openai) (1.4.0)\n",
      "Requirement already satisfied: yarl<2.0,>=1.0 in /usr/local/lib/python3.8/site-packages (from aiohttp->openai) (1.9.2)\n",
      "Requirement already satisfied: attrs>=17.3.0 in /usr/local/lib/python3.8/site-packages (from aiohttp->openai) (23.1.0)\n",
      "Requirement already satisfied: multidict<7.0,>=4.5 in /usr/local/lib/python3.8/site-packages (from aiohttp->openai) (6.0.4)\n",
      "Requirement already satisfied: aiosignal>=1.1.2 in /usr/local/lib/python3.8/site-packages (from aiohttp->openai) (1.3.1)\n",
      "Requirement already satisfied: charset-normalizer<4.0,>=2.0 in /usr/local/lib/python3.8/site-packages (from aiohttp->openai) (3.2.0)\n",
      "Requirement already satisfied: certifi>=2017.4.17 in /usr/local/lib/python3.8/site-packages (from requests>=2.20->openai) (2023.7.22)\n",
      "Requirement already satisfied: idna<4,>=2.5 in /usr/local/lib/python3.8/site-packages (from requests>=2.20->openai) (3.4)\n",
      "Requirement already satisfied: urllib3<3,>=1.21.1 in /usr/local/lib/python3.8/site-packages (from requests>=2.20->openai) (1.26.16)\n",
      "Requirement already satisfied: typing-inspect<1,>=0.4.0 in /usr/local/lib/python3.8/site-packages (from dataclasses-json<0.6.0,>=0.5.7->langchain) (0.9.0)\n",
      "Requirement already satisfied: marshmallow<4.0.0,>=3.18.0 in /usr/local/lib/python3.8/site-packages (from dataclasses-json<0.6.0,>=0.5.7->langchain) (3.20.1)\n",
      "Requirement already satisfied: greenlet!=0.4.17; platform_machine == \"aarch64\" or (platform_machine == \"ppc64le\" or (platform_machine == \"x86_64\" or (platform_machine == \"amd64\" or (platform_machine == \"AMD64\" or (platform_machine == \"win32\" or platform_machine == \"WIN32\"))))) in /usr/local/lib/python3.8/site-packages (from SQLAlchemy<3,>=1.4->langchain) (2.0.2)\n",
      "Requirement already satisfied: typing-extensions>=4.2.0 in /usr/local/lib/python3.8/site-packages (from SQLAlchemy<3,>=1.4->langchain) (4.7.1)\n",
      "Requirement already satisfied: annotated-types>=0.4.0 in /usr/local/lib/python3.8/site-packages (from pydantic<3,>=1->langchain) (0.5.0)\n",
      "Requirement already satisfied: pydantic-core==2.6.3 in /usr/local/lib/python3.8/site-packages (from pydantic<3,>=1->langchain) (2.6.3)\n",
      "Requirement already satisfied: mypy-extensions>=0.3.0 in /usr/local/lib/python3.8/site-packages (from typing-inspect<1,>=0.4.0->dataclasses-json<0.6.0,>=0.5.7->langchain) (1.0.0)\n",
      "Requirement already satisfied: packaging>=17.0 in /usr/local/lib/python3.8/site-packages (from marshmallow<4.0.0,>=3.18.0->dataclasses-json<0.6.0,>=0.5.7->langchain) (23.1)\n",
      "Note: you may need to restart the kernel to use updated packages.\n"
     ]
    }
   ],
   "source": [
    "%pip install openai langchain"
   ]
  },
  {
   "cell_type": "code",
   "execution_count": 3,
   "id": "f48f1145-43a8-410e-8e99-edb6f205581f",
   "metadata": {},
   "outputs": [],
   "source": [
    "import concurrent.futures\n",
    "import os\n",
    "\n",
    "import openai\n",
    "from langchain import LLMChain, PromptTemplate\n",
    "from langchain.chat_models import ChatOpenAI\n",
    "from langchain.memory import ConversationBufferMemory\n",
    "\n",
    "from langchain.agents import AgentType\n",
    "from langchain.agents import initialize_agent, Tool\n",
    "from langchain.prompts import MessagesPlaceholder\n",
    "\n",
    "from typing import Type\n",
    "from pydantic import BaseModel, Field\n",
    "from langchain.tools import BaseTool"
   ]
  },
  {
   "cell_type": "markdown",
   "id": "85d6b1f2-8cf8-4a6d-8f15-83aa21d505f2",
   "metadata": {},
   "source": [
    "現在時刻を取得する関数でfunction callingを検証します。"
   ]
  },
  {
   "cell_type": "code",
   "execution_count": 9,
   "id": "1ffd1b49-cc6e-48f8-aa07-789cf70e037e",
   "metadata": {},
   "outputs": [],
   "source": [
    "import ntplib\n",
    "import pytz\n",
    "from datetime import datetime, timezone\n",
    "\n",
    "def fetch_current_datetime_in_timezone(timezone_str):\n",
    "    client = ntplib.NTPClient()\n",
    "    response = client.request('pool.ntp.org')\n",
    "    utc_now = datetime.fromtimestamp(response.tx_time, timezone.utc)\n",
    "    try:\n",
    "        target_timezone = pytz.timezone(timezone_str)\n",
    "        return utc_now.astimezone(target_timezone)\n",
    "    except pytz.UnknownTimeZoneError:\n",
    "        raise ValueError(f\"Unsupported timezone: {timezone_str}\")\n",
    "\n",
    "class TimeZoneDatetimeInput(BaseModel):\n",
    "  timezone_str: str = Field(description=\"Time zone (e.g., Asia/Tokyo, UTC, America/New_York, Europe/London, etc.)\")\n",
    "\n",
    "class TimeZoneDatetimeFetcher(BaseTool):\n",
    "    name = 'fetch_datetime_in_timezone'\n",
    "    description = \"Enter time zone (e.g., Asia/Tokyo, UTC, America/New_York, Europe/London, etc.). Outputs the current date and time corresponding to the time zone.\"\n",
    "    args_schema: Type[BaseModel] = TimeZoneDatetimeInput\n",
    "    \n",
    "    def _run(self, timezone_str: str):\n",
    "        return fetch_current_datetime_in_timezone(timezone_str)\n",
    "    \n",
    "    def _arun(self, ticker: str):\n",
    "        raise NotImplementedError(\"fetch_datetime_in_timezone does not support async\")"
   ]
  },
  {
   "cell_type": "raw",
   "id": "0d260479-4702-4b90-b96d-b7e0eb963758",
   "metadata": {},
   "source": [
    "function callingの対象とする関数は`TimeZoneDatetimeFetcher()`のみとし、`initialize_agent`でAgent機能を有効化します。(複数のfunctionとする場合、listの順番に関数が呼び出されます。)"
   ]
  },
  {
   "cell_type": "code",
   "execution_count": 11,
   "id": "d3d87592-b5be-4e53-bf4d-f10485d939d6",
   "metadata": {},
   "outputs": [],
   "source": [
    "from function_calling_tools.ntp import TimeZoneDatetimeFetcher\n",
    "\n",
    "tools = [\n",
    "  TimeZoneDatetimeFetcher(),\n",
    "]\n",
    "\n",
    "memory = ConversationBufferMemory(memory_key=\"memory\", return_messages=True)\n",
    "\n",
    "agent_kwargs = {\n",
    "  \"extra_prompt_messages\": [MessagesPlaceholder(variable_name=\"memory\")],\n",
    "}\n",
    "\n",
    "prompt = \"\"\"\n",
    "Don't make assumptions about what values to plug into functions. Ask for clarification if a user request is ambiguous.\n",
    "\"\"\"\n",
    "\n",
    "memory.save_context({\"input\": prompt}, {\"output\": \"I got it!\"})\n",
    "\n",
    "openai.api_key = os.environ[\"OPENAI_API_KEY\"]\n",
    "llm = ChatOpenAI(model_name=\"gpt-3.5-turbo\")\n",
    "\n",
    "agent = initialize_agent(\n",
    "    tools,\n",
    "    llm,\n",
    "    agent=AgentType.OPENAI_FUNCTIONS,\n",
    "    verbose=True,\n",
    "    agent_kwargs=agent_kwargs,\n",
    "    memory=memory,\n",
    ")"
   ]
  },
  {
   "cell_type": "markdown",
   "id": "947cc717-c6da-439d-8aab-e09235b6bf8f",
   "metadata": {},
   "source": [
    "前準備が終わったら、あとは質問するのみです。"
   ]
  },
  {
   "cell_type": "code",
   "execution_count": 12,
   "id": "70662d54-63a6-4a74-a5dd-ce4bab9f6e84",
   "metadata": {},
   "outputs": [
    {
     "name": "stdout",
     "output_type": "stream",
     "text": [
      "\n",
      "\n",
      "\u001b[1m> Entering new AgentExecutor chain...\u001b[0m\n",
      "\u001b[32;1m\u001b[1;3m\n",
      "Invoking: `fetch_datetime_in_timezone` with `{'timezone_str': 'Asia/Tokyo'}`\n",
      "\n",
      "\n",
      "\u001b[0m\u001b[36;1m\u001b[1;3m2023-09-11 12:27:51.333530+09:00\u001b[0m\u001b[32;1m\u001b[1;3m現在の時刻は、2023年9月11日 12時27分です。\u001b[0m\n",
      "\n",
      "\u001b[1m> Finished chain.\u001b[0m\n"
     ]
    },
    {
     "data": {
      "text/plain": [
       "'現在の時刻は、2023年9月11日 12時27分です。'"
      ]
     },
     "execution_count": 12,
     "metadata": {},
     "output_type": "execute_result"
    }
   ],
   "source": [
    "agent.run(input=\"現在時刻は何時ですか？\")"
   ]
  },
  {
   "cell_type": "code",
   "execution_count": 13,
   "id": "f948097d-3209-4876-b3fc-1438cdaf14e2",
   "metadata": {},
   "outputs": [
    {
     "name": "stdout",
     "output_type": "stream",
     "text": [
      "\n",
      "\n",
      "\u001b[1m> Entering new AgentExecutor chain...\u001b[0m\n",
      "\u001b[32;1m\u001b[1;3m\n",
      "Invoking: `fetch_datetime_in_timezone` with `{'timezone_str': 'Asia/Tokyo'}`\n",
      "\n",
      "\n",
      "\u001b[0m\u001b[36;1m\u001b[1;3m2023-09-11 12:27:56.949221+09:00\u001b[0m\u001b[32;1m\u001b[1;3m現在の日付は2023年9月11日です。以下は今週の月曜日から日曜日までの日付です。\n",
      "\n",
      "- 月曜日: 2023年9月11日\n",
      "- 火曜日: 2023年9月12日\n",
      "- 水曜日: 2023年9月13日\n",
      "- 木曜日: 2023年9月14日\n",
      "- 金曜日: 2023年9月15日\n",
      "- 土曜日: 2023年9月16日\n",
      "- 日曜日: 2023年9月17日\n",
      "\n",
      "どうぞご参考ください。\u001b[0m\n",
      "\n",
      "\u001b[1m> Finished chain.\u001b[0m\n"
     ]
    },
    {
     "data": {
      "text/plain": [
       "'現在の日付は2023年9月11日です。以下は今週の月曜日から日曜日までの日付です。\\n\\n- 月曜日: 2023年9月11日\\n- 火曜日: 2023年9月12日\\n- 水曜日: 2023年9月13日\\n- 木曜日: 2023年9月14日\\n- 金曜日: 2023年9月15日\\n- 土曜日: 2023年9月16日\\n- 日曜日: 2023年9月17日\\n\\nどうぞご参考ください。'"
      ]
     },
     "execution_count": 13,
     "metadata": {},
     "output_type": "execute_result"
    }
   ],
   "source": [
    "agent.run(input=\"今週の月曜から日曜まで、それぞれ何月何日が出力してほしい\")"
   ]
  },
  {
   "cell_type": "code",
   "execution_count": null,
   "id": "0b8e26c7-18ba-49d5-b95c-4612b9dda0c5",
   "metadata": {},
   "outputs": [],
   "source": []
  },
  {
   "cell_type": "code",
   "execution_count": null,
   "id": "b0782edc-e18b-4f5f-979e-b96cbfedfeed",
   "metadata": {},
   "outputs": [],
   "source": []
  }
 ],
 "metadata": {
  "kernelspec": {
   "display_name": "Python 3 (ipykernel)",
   "language": "python",
   "name": "python3"
  },
  "language_info": {
   "codemirror_mode": {
    "name": "ipython",
    "version": 3
   },
   "file_extension": ".py",
   "mimetype": "text/x-python",
   "name": "python",
   "nbconvert_exporter": "python",
   "pygments_lexer": "ipython3",
   "version": "3.8.5"
  }
 },
 "nbformat": 4,
 "nbformat_minor": 5
}
