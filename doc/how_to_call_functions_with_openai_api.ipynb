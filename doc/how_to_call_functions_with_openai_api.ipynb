{
 "cells": [
  {
   "cell_type": "markdown",
   "id": "301e276f-4194-4836-aad4-2a1597482b97",
   "metadata": {},
   "source": [
    "APIキーを定義、パッケージimport、関数を定義します。"
   ]
  },
  {
   "cell_type": "code",
   "execution_count": 1,
   "id": "57f7b5ec-23df-4bb0-810c-1efa86bae8e3",
   "metadata": {},
   "outputs": [
    {
     "name": "stdout",
     "output_type": "stream",
     "text": [
      "env: OPENAI_API_KEY=\n"
     ]
    }
   ],
   "source": [
    "%env OPENAI_API_KEY="
   ]
  },
  {
   "cell_type": "code",
   "execution_count": 11,
   "id": "c9c700cd-c82c-477b-b866-423c372ee625",
   "metadata": {},
   "outputs": [
    {
     "name": "stdout",
     "output_type": "stream",
     "text": [
      "Requirement already satisfied: ntplib in /usr/local/lib/python3.8/site-packages (0.4.0)\n",
      "Note: you may need to restart the kernel to use updated packages.\n"
     ]
    }
   ],
   "source": [
    "%pip install ntplib"
   ]
  },
  {
   "cell_type": "markdown",
   "id": "bf28047b-16ec-433c-98d3-1dd91672419a",
   "metadata": {},
   "source": [
    "[chat/completions API](https://platform.openai.com/docs/api-reference/chat/create) を呼び出す関数を定義します。"
   ]
  },
  {
   "cell_type": "code",
   "execution_count": 3,
   "id": "753e9acf-b378-4881-99cd-04f038763b0f",
   "metadata": {},
   "outputs": [],
   "source": [
    "import json\n",
    "import requests\n",
    "import os\n",
    "\n",
    "GPT_MODEL = \"gpt-3.5-turbo-0613\"\n",
    "\n",
    "# Open AI API呼び出し関数\n",
    "def chat_completion_request(messages, functions=None, function_call=None, model=GPT_MODEL):\n",
    "    headers = {\n",
    "        \"Content-Type\": \"application/json\",\n",
    "        \"Authorization\": \"Bearer \" + os.environ[\"OPENAI_API_KEY\"],\n",
    "    }\n",
    "    json_data = {\"model\": model, \"messages\": messages}\n",
    "    if functions is not None:\n",
    "        json_data.update({\"functions\": functions})\n",
    "    if function_call is not None:\n",
    "        json_data.update({\"function_call\": function_call})\n",
    "    try:\n",
    "        response = requests.post(\n",
    "            \"https://api.openai.com/v1/chat/completions\",\n",
    "            headers=headers,\n",
    "            json=json_data,\n",
    "        )\n",
    "        return response\n",
    "    except Exception as e:\n",
    "        print(\"Unable to generate ChatCompletion response\")\n",
    "        print(f\"Exception: {e}\")\n",
    "        return e\n"
   ]
  },
  {
   "cell_type": "markdown",
   "id": "4d1ecf8a-f9e4-4fe0-91e5-7d68be05c8f8",
   "metadata": {},
   "source": [
    "今回function callingのテストに使用する関数を定義します。引数にタイムゾーンを与え、現在の日時を取得する簡単な関数を用います。"
   ]
  },
  {
   "cell_type": "code",
   "execution_count": 4,
   "id": "f9878d6f-bf0e-4f84-af39-18fa78f440fd",
   "metadata": {},
   "outputs": [],
   "source": [
    "import ntplib\n",
    "import pytz\n",
    "from datetime import datetime, timezone\n",
    "\n",
    "# 今回function callingで実行する関数\n",
    "def fetch_current_datetime_in_timezone(timezone_str):\n",
    "    client = ntplib.NTPClient()\n",
    "    response = client.request('pool.ntp.org')\n",
    "    utc_now = datetime.fromtimestamp(response.tx_time, timezone.utc)\n",
    "    try:\n",
    "        target_timezone = pytz.timezone(timezone_str)\n",
    "        return utc_now.astimezone(target_timezone).strftime('%Y-%m-%d %H:%M:%S.%f %Z%z')\n",
    "    except pytz.UnknownTimeZoneError:\n",
    "        raise ValueError(f\"Unsupported timezone: {timezone_str}\")\n",
    "\n",
    "# Open AIに通知するfunctionsパラメータ\n",
    "functions = [\n",
    "    {\n",
    "        \"name\": \"fetch_current_datetime_in_timezone\",\n",
    "        \"description\": \"Enter time zone (e.g., Asia/Tokyo, UTC, America/New_York, Europe/London, etc.). Outputs the current date and time corresponding to the time zone.\",\n",
    "        \"parameters\": {\n",
    "            \"type\": \"object\",\n",
    "            \"properties\": {\n",
    "                \"timezone_str\": {\n",
    "                    \"type\": \"string\",\n",
    "                    \"description\": \"Time zone (e.g., Asia/Tokyo, UTC, America/New_York, Europe/London, etc.). Infer this from the conversation.\",\n",
    "                }\n",
    "            },\n",
    "            \"required\": [\"timezone_str\"],\n",
    "        },\n",
    "    }\n",
    "]\n"
   ]
  },
  {
   "cell_type": "markdown",
   "id": "bd580939-934c-438f-b90d-5cb3207b788e",
   "metadata": {},
   "source": [
    "\"What time is it now in tokyo, Japan?\" という質問とfunctions JsonパラメータをOpen AI API `chat/completions` にPOSTします。"
   ]
  },
  {
   "cell_type": "code",
   "execution_count": 5,
   "id": "c3e25417-a59b-4749-9c89-ac93c5159ded",
   "metadata": {},
   "outputs": [],
   "source": [
    "messages = []\n",
    "messages.append({\"role\": \"system\", \"content\": \"Don't make assumptions about what values to plug into functions. Ask for clarification if a user request is ambiguous.\"})\n",
    "messages.append({\"role\": \"user\", \"content\": \"What time is it now in tokyo, Japan?\"})\n",
    "chat_response = chat_completion_request(\n",
    "    messages, functions=functions\n",
    ")\n"
   ]
  },
  {
   "cell_type": "markdown",
   "id": "89cc28b1-d469-4651-80dc-90ae6133472b",
   "metadata": {},
   "source": [
    "Open AI API `chat/completions` は以下の通り結果を返却します。Open AI API側で、\"What time is it now in tokyo, Japan?\"という文章から、タイムゾーンとして\"Asia/Tokyo\"を抜き出していることがわかります。"
   ]
  },
  {
   "cell_type": "code",
   "execution_count": 6,
   "id": "e65d8171-d5ea-418b-b608-648f7e63fbe2",
   "metadata": {},
   "outputs": [
    {
     "data": {
      "text/plain": [
       "{'role': 'assistant',\n",
       " 'content': None,\n",
       " 'function_call': {'name': 'fetch_current_datetime_in_timezone',\n",
       "  'arguments': '{\\n  \"timezone_str\": \"Asia/Tokyo\"\\n}'}}"
      ]
     },
     "execution_count": 6,
     "metadata": {},
     "output_type": "execute_result"
    }
   ],
   "source": [
    "assistant_message = chat_response.json()[\"choices\"][0][\"message\"]\n",
    "messages.append(assistant_message)\n",
    "assistant_message"
   ]
  },
  {
   "cell_type": "markdown",
   "id": "bb98aed1-7110-4d8a-9917-64c3b9bb1fd9",
   "metadata": {},
   "source": [
    "得られた引数情報を使って、関数をUser側で実行します。以下の通り、関数を実行することで現在時刻を出力できました。"
   ]
  },
  {
   "cell_type": "code",
   "execution_count": 7,
   "id": "ef97ff32-bc86-40c4-ab4e-eb17c8402079",
   "metadata": {},
   "outputs": [
    {
     "name": "stdout",
     "output_type": "stream",
     "text": [
      "Answer:  2023-09-11 11:31:59.513282 JST+0900\n"
     ]
    }
   ],
   "source": [
    "if assistant_message.get(\"function_call\"):\n",
    "    function_call_result = assistant_message[\"function_call\"]\n",
    "    \n",
    "    # Get function by name from global scope\n",
    "    func = globals().get(function_call_result[\"name\"])\n",
    "    if not func:\n",
    "        raise ValueError(f\"No function named '{function_call_result['name']}' found.\")\n",
    "    \n",
    "    # Parse arguments and call the function\n",
    "    arguments = json.loads(function_call_result[\"arguments\"])\n",
    "    response = func(**arguments)\n",
    "    print(\"Answer: \", response)    "
   ]
  },
  {
   "cell_type": "markdown",
   "id": "63e42345-faf6-41c4-b91b-8dd34340d97d",
   "metadata": {},
   "source": [
    "関数の実行結果を含めたこれまでの会話をOpen AI API `chat/completions` にPOSTします。"
   ]
  },
  {
   "cell_type": "code",
   "execution_count": 8,
   "id": "d02b0f84-e0cc-43c3-9c18-88fb6c2a143d",
   "metadata": {},
   "outputs": [
    {
     "name": "stdout",
     "output_type": "stream",
     "text": [
      "[{'role': 'system', 'content': \"Don't make assumptions about what values to plug into functions. Ask for clarification if a user request is ambiguous.\"}, {'role': 'user', 'content': 'What time is it now in tokyo, Japan?'}, {'role': 'assistant', 'content': None, 'function_call': {'name': 'fetch_current_datetime_in_timezone', 'arguments': '{\\n  \"timezone_str\": \"Asia/Tokyo\"\\n}'}}, {'role': 'function', 'name': 'fetch_current_datetime_in_timezone', 'content': '2023-09-11 11:31:59.513282 JST+0900'}]\n"
     ]
    }
   ],
   "source": [
    "messages.append({\"role\": \"function\", \"name\": \"fetch_current_datetime_in_timezone\", \"content\": response})\n",
    "print(messages)\n",
    "chat_response = chat_completion_request(\n",
    "    messages, functions=functions\n",
    ")"
   ]
  },
  {
   "cell_type": "markdown",
   "id": "48e2a1c8-1398-4a59-88d4-6542e8d7b00c",
   "metadata": {},
   "source": [
    "関数の実行結果と会話から尤もらしい回答をOpen AI APIが返却してくれます。"
   ]
  },
  {
   "cell_type": "code",
   "execution_count": 9,
   "id": "0684ceb9-aa23-4226-800c-0e659d68fafc",
   "metadata": {},
   "outputs": [
    {
     "name": "stdout",
     "output_type": "stream",
     "text": [
      "{'role': 'assistant', 'content': 'The current time in Tokyo, Japan is 11:31 AM on September 11, 2023.'}\n"
     ]
    }
   ],
   "source": [
    "assistant_message = chat_response.json()[\"choices\"][0][\"message\"]\n",
    "messages.append(assistant_message)\n",
    "print(assistant_message)"
   ]
  },
  {
   "cell_type": "code",
   "execution_count": null,
   "id": "65863053-3447-47fe-995b-8c7aa492a259",
   "metadata": {},
   "outputs": [],
   "source": []
  }
 ],
 "metadata": {
  "kernelspec": {
   "display_name": "Python 3 (ipykernel)",
   "language": "python",
   "name": "python3"
  },
  "language_info": {
   "codemirror_mode": {
    "name": "ipython",
    "version": 3
   },
   "file_extension": ".py",
   "mimetype": "text/x-python",
   "name": "python",
   "nbconvert_exporter": "python",
   "pygments_lexer": "ipython3",
   "version": "3.8.5"
  }
 },
 "nbformat": 4,
 "nbformat_minor": 5
}
